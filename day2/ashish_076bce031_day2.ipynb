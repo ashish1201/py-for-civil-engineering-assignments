{
 "cells": [
  {
   "cell_type": "code",
   "execution_count": 13,
   "id": "943516b9-07d2-49ab-9399-df8786d70f53",
   "metadata": {
    "tags": []
   },
   "outputs": [
    {
     "data": {
      "text/plain": [
       "'Matrix is'"
      ]
     },
     "metadata": {},
     "output_type": "display_data"
    },
    {
     "data": {
      "text/latex": [
       "$\\displaystyle \\left[\\begin{matrix}\\frac{H^{3}}{3 E I} + \\frac{L}{A E} & 0 & - \\frac{H^{2}}{2 E I}\\\\0 & \\frac{L^{3}}{3 E I} + \\frac{H}{A E} & \\frac{L^{2}}{2 E I}\\\\- \\frac{H^{2}}{2 E I} & \\frac{L^{2}}{2 E I} & \\frac{H}{E I} + \\frac{L}{E I}\\end{matrix}\\right]$"
      ],
      "text/plain": [
       "Matrix([\n",
       "[H**3/(3*E*I) + L/(A*E),                      0,     -H**2/(2*E*I)],\n",
       "[                     0, L**3/(3*E*I) + H/(A*E),      L**2/(2*E*I)],\n",
       "[         -H**2/(2*E*I),           L**2/(2*E*I), H/(E*I) + L/(E*I)]])"
      ]
     },
     "metadata": {},
     "output_type": "display_data"
    },
    {
     "data": {
      "text/plain": [
       "'Determinant of Matrix is'"
      ]
     },
     "metadata": {},
     "output_type": "display_data"
    },
    {
     "data": {
      "text/latex": [
       "$\\displaystyle \\frac{A^{2} H^{4} L^{3} + A^{2} H^{3} L^{4} + 3 A H^{5} I + 12 A H^{4} I L + 12 A H I L^{4} + 3 A I L^{5} + 36 H^{2} I^{2} L + 36 H I^{2} L^{2}}{36 A^{2} E^{3} I^{3}}$"
      ],
      "text/plain": [
       "(A**2*H**4*L**3 + A**2*H**3*L**4 + 3*A*H**5*I + 12*A*H**4*I*L + 12*A*H*I*L**4 + 3*A*I*L**5 + 36*H**2*I**2*L + 36*H*I**2*L**2)/(36*A**2*E**3*I**3)"
      ]
     },
     "metadata": {},
     "output_type": "display_data"
    },
    {
     "data": {
      "text/plain": [
       "'Invese of Matrix is '"
      ]
     },
     "metadata": {},
     "output_type": "display_data"
    },
    {
     "data": {
      "text/latex": [
       "$\\displaystyle \\left[\\begin{matrix}\\frac{12 A^{2} E H I L^{3} + 3 A^{2} E I L^{4} + 36 A E H^{2} I^{2} + 36 A E H I^{2} L}{A^{2} H^{4} L^{3} + A^{2} H^{3} L^{4} + 3 A H^{5} I + 12 A H^{4} I L + 12 A H I L^{4} + 3 A I L^{5} + 36 H^{2} I^{2} L + 36 H I^{2} L^{2}} & - \\frac{9 A^{2} E H^{2} I L^{2}}{A^{2} H^{4} L^{3} + A^{2} H^{3} L^{4} + 3 A H^{5} I + 12 A H^{4} I L + 12 A H I L^{4} + 3 A I L^{5} + 36 H^{2} I^{2} L + 36 H I^{2} L^{2}} & \\frac{6 A^{2} E H^{2} I L^{3} + 18 A E H^{3} I^{2}}{A^{2} H^{4} L^{3} + A^{2} H^{3} L^{4} + 3 A H^{5} I + 12 A H^{4} I L + 12 A H I L^{4} + 3 A I L^{5} + 36 H^{2} I^{2} L + 36 H I^{2} L^{2}}\\\\- \\frac{9 A^{2} E H^{2} I L^{2}}{A^{2} H^{4} L^{3} + A^{2} H^{3} L^{4} + 3 A H^{5} I + 12 A H^{4} I L + 12 A H I L^{4} + 3 A I L^{5} + 36 H^{2} I^{2} L + 36 H I^{2} L^{2}} & \\frac{3 A^{2} E H^{4} I + 12 A^{2} E H^{3} I L + 36 A E H I^{2} L + 36 A E I^{2} L^{2}}{A^{2} H^{4} L^{3} + A^{2} H^{3} L^{4} + 3 A H^{5} I + 12 A H^{4} I L + 12 A H I L^{4} + 3 A I L^{5} + 36 H^{2} I^{2} L + 36 H I^{2} L^{2}} & \\frac{- 6 A^{2} E H^{3} I L^{2} - 18 A E I^{2} L^{3}}{A^{2} H^{4} L^{3} + A^{2} H^{3} L^{4} + 3 A H^{5} I + 12 A H^{4} I L + 12 A H I L^{4} + 3 A I L^{5} + 36 H^{2} I^{2} L + 36 H I^{2} L^{2}}\\\\\\frac{6 A^{2} E H^{2} I L^{3} + 18 A E H^{3} I^{2}}{A^{2} H^{4} L^{3} + A^{2} H^{3} L^{4} + 3 A H^{5} I + 12 A H^{4} I L + 12 A H I L^{4} + 3 A I L^{5} + 36 H^{2} I^{2} L + 36 H I^{2} L^{2}} & \\frac{- 6 A^{2} E H^{3} I L^{2} - 18 A E I^{2} L^{3}}{A^{2} H^{4} L^{3} + A^{2} H^{3} L^{4} + 3 A H^{5} I + 12 A H^{4} I L + 12 A H I L^{4} + 3 A I L^{5} + 36 H^{2} I^{2} L + 36 H I^{2} L^{2}} & \\frac{4 A^{2} E H^{3} I L^{3} + 12 A E H^{4} I^{2} + 12 A E I^{2} L^{4} + 36 E H I^{3} L}{A^{2} H^{4} L^{3} + A^{2} H^{3} L^{4} + 3 A H^{5} I + 12 A H^{4} I L + 12 A H I L^{4} + 3 A I L^{5} + 36 H^{2} I^{2} L + 36 H I^{2} L^{2}}\\end{matrix}\\right]$"
      ],
      "text/plain": [
       "Matrix([\n",
       "[(12*A**2*E*H*I*L**3 + 3*A**2*E*I*L**4 + 36*A*E*H**2*I**2 + 36*A*E*H*I**2*L)/(A**2*H**4*L**3 + A**2*H**3*L**4 + 3*A*H**5*I + 12*A*H**4*I*L + 12*A*H*I*L**4 + 3*A*I*L**5 + 36*H**2*I**2*L + 36*H*I**2*L**2),                                                       -9*A**2*E*H**2*I*L**2/(A**2*H**4*L**3 + A**2*H**3*L**4 + 3*A*H**5*I + 12*A*H**4*I*L + 12*A*H*I*L**4 + 3*A*I*L**5 + 36*H**2*I**2*L + 36*H*I**2*L**2),                                    (6*A**2*E*H**2*I*L**3 + 18*A*E*H**3*I**2)/(A**2*H**4*L**3 + A**2*H**3*L**4 + 3*A*H**5*I + 12*A*H**4*I*L + 12*A*H*I*L**4 + 3*A*I*L**5 + 36*H**2*I**2*L + 36*H*I**2*L**2)],\n",
       "[                                                      -9*A**2*E*H**2*I*L**2/(A**2*H**4*L**3 + A**2*H**3*L**4 + 3*A*H**5*I + 12*A*H**4*I*L + 12*A*H*I*L**4 + 3*A*I*L**5 + 36*H**2*I**2*L + 36*H*I**2*L**2), (3*A**2*E*H**4*I + 12*A**2*E*H**3*I*L + 36*A*E*H*I**2*L + 36*A*E*I**2*L**2)/(A**2*H**4*L**3 + A**2*H**3*L**4 + 3*A*H**5*I + 12*A*H**4*I*L + 12*A*H*I*L**4 + 3*A*I*L**5 + 36*H**2*I**2*L + 36*H*I**2*L**2),                                   (-6*A**2*E*H**3*I*L**2 - 18*A*E*I**2*L**3)/(A**2*H**4*L**3 + A**2*H**3*L**4 + 3*A*H**5*I + 12*A*H**4*I*L + 12*A*H*I*L**4 + 3*A*I*L**5 + 36*H**2*I**2*L + 36*H*I**2*L**2)],\n",
       "[                                  (6*A**2*E*H**2*I*L**3 + 18*A*E*H**3*I**2)/(A**2*H**4*L**3 + A**2*H**3*L**4 + 3*A*H**5*I + 12*A*H**4*I*L + 12*A*H*I*L**4 + 3*A*I*L**5 + 36*H**2*I**2*L + 36*H*I**2*L**2),                                  (-6*A**2*E*H**3*I*L**2 - 18*A*E*I**2*L**3)/(A**2*H**4*L**3 + A**2*H**3*L**4 + 3*A*H**5*I + 12*A*H**4*I*L + 12*A*H*I*L**4 + 3*A*I*L**5 + 36*H**2*I**2*L + 36*H*I**2*L**2), (4*A**2*E*H**3*I*L**3 + 12*A*E*H**4*I**2 + 12*A*E*I**2*L**4 + 36*E*H*I**3*L)/(A**2*H**4*L**3 + A**2*H**3*L**4 + 3*A*H**5*I + 12*A*H**4*I*L + 12*A*H*I*L**4 + 3*A*I*L**5 + 36*H**2*I**2*L + 36*H*I**2*L**2)]])"
      ]
     },
     "metadata": {},
     "output_type": "display_data"
    }
   ],
   "source": [
    "#Q NO 1\n",
    "\n",
    "import sympy as sp\n",
    "L,E,A,H,I=sp.symbols(\"L,E,A,H,I\")\n",
    "\n",
    "# adding elements of matrix\n",
    "row1=[L/(A*E) + H**3 / (3*E*I) , 0,  -H**2 / (2*E*I)]\n",
    "row2=[0,H/(E*A) + L**3 / (3*E*I) ,   L**2 / (2*E*I)]\n",
    "row3=[-H**2 / (2*E*I),L**2 / (2*E*I),L/(E*I) + H/(E*I)]\n",
    "my_mat=sp.Matrix([row1,row2,row3])\n",
    "display('Matrix is',my_mat)\n",
    "\n",
    "# determinant of matrix\n",
    "display('Determinant of Matrix is',my_mat.det())\n",
    "\n",
    "#inverse of matrix\n",
    "display('Invese of Matrix is ', my_mat.inv())\n"
   ]
  },
  {
   "cell_type": "code",
   "execution_count": 54,
   "id": "2fd584f9-e20a-45e2-8974-13cd81a77a7e",
   "metadata": {},
   "outputs": [],
   "source": []
  },
  {
   "cell_type": "code",
   "execution_count": 6,
   "id": "d7db8a74-b31a-49c7-9906-f247c4ca40ac",
   "metadata": {},
   "outputs": [
    {
     "name": "stdout",
     "output_type": "stream",
     "text": [
      "The roots are 1.75945754251847 - 2.42478344646842*I  and 1.75945754251847 + 2.42478344646842*I\n"
     ]
    },
    {
     "name": "stderr",
     "output_type": "stream",
     "text": [
      "<string>:1: RuntimeWarning: invalid value encountered in double_scalars\n"
     ]
    },
    {
     "data": {
      "image/png": "[encoded data removed]",
      "text/plain": [
       "<Figure size 432x288 with 1 Axes>"
      ]
     },
     "metadata": {
      "needs_background": "light"
     },
     "output_type": "display_data"
    },
    {
     "data": {
      "text/plain": [
       "<sympy.plotting.plot.Plot at 0x21e94db4190>"
      ]
     },
     "metadata": {},
     "output_type": "display_data"
    }
   ],
   "source": [
    "#Q no 2\n",
    "\n",
    "f,x = sp.symbols(\" f_(x),x\")\n",
    "\n",
    "#defining function\n",
    "e1=x**2+(x**3-23*x+1)**0.5\n",
    "\n",
    "# solving equation\n",
    "f=sp.solve(e1)\n",
    "print(\"The roots are\",f[0],' and', f[1])\n",
    "\n",
    "# plot\n",
    "display(sp.plot(e1))"
   ]
  },
  {
   "cell_type": "code",
   "execution_count": 9,
   "id": "95d40932-b337-4d3d-a71d-047971b6bc27",
   "metadata": {},
   "outputs": [
    {
     "name": "stdout",
     "output_type": "stream",
     "text": [
      "centroid of parabola y=k*x**2 is 3*b/10\n"
     ]
    }
   ],
   "source": [
    "#Q NO 3\n",
    "x,y=sp.symbols('x,y')\n",
    "a,b,k=sp.symbols('a,b,k',constant= True)\n",
    "\n",
    "k=b/a**2\n",
    "y=k*x**2\n",
    "\n",
    "# numerator part of centroid\n",
    "intr=y**2/2\n",
    "intr1=sp.Integral(intr,(x,0,a)).doit()\n",
    "\n",
    "#calculation of area\n",
    "area=(sp.Integral(y,(x,0,a))).doit()\n",
    "\n",
    "print('centroid of parabola y=k*x**2 is',intr1/area)\n",
    "\n"
   ]
  },
  {
   "cell_type": "code",
   "execution_count": 11,
   "id": "761e7c6f-1abf-44ee-9394-74ff79cd1e7d",
   "metadata": {},
   "outputs": [
    {
     "name": "stdout",
     "output_type": "stream",
     "text": [
      "Using Equations of Equilibrium, we have \n"
     ]
    },
    {
     "data": {
      "text/latex": [
       "$\\displaystyle R_{y} = 0$"
      ],
      "text/plain": [
       "Eq(R_y, 0)"
      ]
     },
     "metadata": {},
     "output_type": "display_data"
    },
    {
     "data": {
      "text/latex": [
       "$\\displaystyle - P_{1} - P_{2} + R_{A y} + R_{E y} - 2 w = 0$"
      ],
      "text/plain": [
       "Eq(-P_1 - P_2 + R_A_y + R_E_y - 2*w, 0)"
      ]
     },
     "metadata": {},
     "output_type": "display_data"
    },
    {
     "name": "stdout",
     "output_type": "stream",
     "text": [
      "Putting given values, we get\n"
     ]
    },
    {
     "data": {
      "text/latex": [
       "$\\displaystyle R_{A y} + R_{E y} - 12 = 0$"
      ],
      "text/plain": [
       "Eq(R_A_y + R_E_y - 12, 0)"
      ]
     },
     "metadata": {},
     "output_type": "display_data"
    },
    {
     "data": {
      "text/plain": [
       "'And From'"
      ]
     },
     "metadata": {},
     "output_type": "display_data"
    },
    {
     "data": {
      "text/latex": [
       "$\\displaystyle R_{x} = 0$"
      ],
      "text/plain": [
       "Eq(R_x, 0)"
      ]
     },
     "metadata": {},
     "output_type": "display_data"
    },
    {
     "data": {
      "text/plain": [
       "'we get'"
      ]
     },
     "metadata": {},
     "output_type": "display_data"
    },
    {
     "data": {
      "text/latex": [
       "$\\displaystyle R_{A x} = 0$"
      ],
      "text/plain": [
       "Eq(R_A_x, 0)"
      ]
     },
     "metadata": {},
     "output_type": "display_data"
    },
    {
     "data": {
      "text/plain": [
       "'For equilibrium of moment about A '"
      ]
     },
     "metadata": {},
     "output_type": "display_data"
    },
    {
     "data": {
      "text/latex": [
       "$\\displaystyle M_{x} = 0$"
      ],
      "text/plain": [
       "Eq(M_x, 0)"
      ]
     },
     "metadata": {},
     "output_type": "display_data"
    },
    {
     "data": {
      "text/plain": [
       "'or'"
      ]
     },
     "metadata": {},
     "output_type": "display_data"
    },
    {
     "data": {
      "text/latex": [
       "$\\displaystyle P_{1} + 3 P_{2} - 6 R_{E y} + 8 w = 0$"
      ],
      "text/plain": [
       "Eq(P_1 + 3*P_2 - 6*R_E_y + 8*w, 0)"
      ]
     },
     "metadata": {},
     "output_type": "display_data"
    },
    {
     "data": {
      "text/latex": [
       "$\\displaystyle 26 - 6 R_{E y} = 0$"
      ],
      "text/plain": [
       "Eq(26 - 6*R_E_y, 0)"
      ]
     },
     "metadata": {},
     "output_type": "display_data"
    },
    {
     "data": {
      "text/plain": [
       "'Solving equations , we obtain support reactions as'"
      ]
     },
     "metadata": {},
     "output_type": "display_data"
    },
    {
     "data": {
      "text/latex": [
       "$\\displaystyle R_{A y} = \\frac{23}{3}$"
      ],
      "text/plain": [
       "Eq(R_A_y, 23/3)"
      ]
     },
     "metadata": {},
     "output_type": "display_data"
    },
    {
     "data": {
      "text/latex": [
       "$\\displaystyle R_{E y} = \\frac{13}{3}$"
      ],
      "text/plain": [
       "Eq(R_E_y, 13/3)"
      ]
     },
     "metadata": {},
     "output_type": "display_data"
    },
    {
     "data": {
      "text/latex": [
       "$\\displaystyle R_{A x} = 0$"
      ],
      "text/plain": [
       "Eq(R_A_x, 0)"
      ]
     },
     "metadata": {},
     "output_type": "display_data"
    },
    {
     "name": "stdout",
     "output_type": "stream",
     "text": [
      "Calculation of Shear Force\n"
     ]
    },
    {
     "data": {
      "text/latex": [
       "$\\displaystyle V_{x} = - P_{1} {\\left\\langle x - 1 \\right\\rangle}^{0} - P_{2} {\\left\\langle x - 3 \\right\\rangle}^{0} - w {\\left\\langle x - 3 \\right\\rangle}^{1} + w {\\left\\langle x - 5 \\right\\rangle}^{1} + \\frac{23 {\\left\\langle x \\right\\rangle}^{0}}{3} + \\frac{13 {\\left\\langle x - 6 \\right\\rangle}^{0}}{3}$"
      ],
      "text/plain": [
       "Eq(V_x, -P_1*SingularityFunction(x, 1, 0) - P_2*SingularityFunction(x, 3, 0) - w*SingularityFunction(x, 3, 1) + w*SingularityFunction(x, 5, 1) + 23*SingularityFunction(x, 0, 0)/3 + 13*SingularityFunction(x, 6, 0)/3)"
      ]
     },
     "metadata": {},
     "output_type": "display_data"
    },
    {
     "data": {
      "text/plain": [
       "'After putting Respective Values'"
      ]
     },
     "metadata": {},
     "output_type": "display_data"
    },
    {
     "data": {
      "text/latex": [
       "$\\displaystyle V_{x} = \\frac{23 {\\left\\langle x \\right\\rangle}^{0}}{3} - 6 {\\left\\langle x - 1 \\right\\rangle}^{0} - 4 {\\left\\langle x - 3 \\right\\rangle}^{0} - {\\left\\langle x - 3 \\right\\rangle}^{1} + {\\left\\langle x - 5 \\right\\rangle}^{1} + \\frac{13 {\\left\\langle x - 6 \\right\\rangle}^{0}}{3}$"
      ],
      "text/plain": [
       "Eq(V_x, 23*SingularityFunction(x, 0, 0)/3 - 6*SingularityFunction(x, 1, 0) - 4*SingularityFunction(x, 3, 0) - SingularityFunction(x, 3, 1) + SingularityFunction(x, 5, 1) + 13*SingularityFunction(x, 6, 0)/3)"
      ]
     },
     "metadata": {},
     "output_type": "display_data"
    },
    {
     "name": "stdout",
     "output_type": "stream",
     "text": [
      "Calculation of Bending Moment:\n"
     ]
    },
    {
     "data": {
      "text/latex": [
       "$\\displaystyle M_{x} = \\frac{23 {\\left\\langle x \\right\\rangle}^{1}}{3} - 6 {\\left\\langle x - 1 \\right\\rangle}^{1} - 4 {\\left\\langle x - 3 \\right\\rangle}^{1} - \\frac{{\\left\\langle x - 3 \\right\\rangle}^{2}}{2} + \\frac{{\\left\\langle x - 5 \\right\\rangle}^{2}}{2} + \\frac{13 {\\left\\langle x - 6 \\right\\rangle}^{1}}{3}$"
      ],
      "text/plain": [
       "Eq(M_x, 23*SingularityFunction(x, 0, 1)/3 - 6*SingularityFunction(x, 1, 1) - 4*SingularityFunction(x, 3, 1) - SingularityFunction(x, 3, 2)/2 + SingularityFunction(x, 5, 2)/2 + 13*SingularityFunction(x, 6, 1)/3)"
      ]
     },
     "metadata": {},
     "output_type": "display_data"
    },
    {
     "data": {
      "image/png": "[encoded data removed]",
      "text/plain": [
       "<Figure size 432x288 with 1 Axes>"
      ]
     },
     "metadata": {
      "needs_background": "light"
     },
     "output_type": "display_data"
    },
    {
     "data": {
      "image/png": "[encoded data removed]",
      "text/plain": [
       "<Figure size 432x288 with 1 Axes>"
      ]
     },
     "metadata": {
      "needs_background": "light"
     },
     "output_type": "display_data"
    },
    {
     "data": {
      "text/plain": [
       "<sympy.plotting.plot.Plot at 0x21e95f9ca30>"
      ]
     },
     "execution_count": 11,
     "metadata": {},
     "output_type": "execute_result"
    }
   ],
   "source": [
    "#Qno4\n",
    "\n",
    "#Symbol Definition\n",
    "Vx,Mx,Ry,Rx,w,RAy,RAx,REy,P1,P2 = sp.symbols(\"V_x,M_x,R_y,R_x,w,R_A_y,R_A_x,R_E_y,P_1,P_2\")\n",
    "\n",
    "\n",
    "#Writing equilibrium Equations\n",
    "\n",
    "\n",
    "#Sum of vertical force equals zero\n",
    "print('Using Equations of Equilibrium, we have ') \n",
    "display(sp.Eq(Ry,0),sp.Eq(RAy+REy-P1-P2-w*2,0))\n",
    "eq1=RAy+REy-P1-P2-w*2\n",
    "print('Putting given values, we get')\n",
    "eq1=eq1.subs([(P1,6),(P2,4),(w,1)])\n",
    "display(sp.Eq(eq1,0))\n",
    "\n",
    "\n",
    "#Sum of Horizontal forces equals zero\n",
    "display('And From',sp.Eq(Rx,0),'we get',sp.Eq(RAx,0))\n",
    "\n",
    "\n",
    "# sum of moment about any point (here A) equals zero\n",
    "display(\"For equilibrium of moment about A \",sp.Eq(Mx,0),\"or\",sp.Eq(P1*1+P2*3+2*w*4-REy*6,0))\n",
    "eq2=P1*1+P2*3+2*w*4-REy*6\n",
    "eq2=eq2.subs([(P1,6),(P2,4),(w,1)])\n",
    "display(sp.Eq(eq2,0))\n",
    "\n",
    "\n",
    "# solving equations to obtain reation forces\n",
    "values=sp.solve([eq1,eq2],[RAy,REy])\n",
    "display('Solving equations , we obtain support reactions as',sp.Eq(RAy,values[RAy]),sp.Eq(REy,values[REy]),sp.Eq(RAx,0))\n",
    "\n",
    "\n",
    "#calculating shear forces \n",
    "x,y=sp.symbols(\"x,y\")\n",
    "def sf(x,y,z):\n",
    "    return sp.SingularityFunction(x,y,z)\n",
    "sh=values[RAy]*sf(x,0,0)+(-P1)*sf(x,1,0)+(-P2)*sf(x,3,0)+(-w)*sf(x,3,1)+(w)*sf(x,5,1)+values[REy]*sf(x,6,0)\n",
    "print('Calculation of Shear Force')\n",
    "display(sp.Eq(Vx,sh),'After putting Respective Values')\n",
    "sh=sh.subs([(P1,6),(P2,4),(w,1)])\n",
    "display(sp.Eq(Vx,sh))\n",
    "\n",
    "\n",
    "# calculating bending moments\n",
    "momfn=sp.Integral(sh,(x)).doit()\n",
    "print('Calculation of Bending Moment:')\n",
    "display(sp.Eq(Mx,momfn))\n",
    "\n",
    "# plotting\n",
    "sp.plot(sh,xlim=[0,6])\n",
    "sp.plot(momfn,xlim=[0,6])\n"
   ]
  },
  {
   "cell_type": "code",
   "execution_count": null,
   "id": "08b740e0-247c-405d-8bc4-9811755aade7",
   "metadata": {},
   "outputs": [],
   "source": []
  },
  {
   "cell_type": "code",
   "execution_count": null,
   "id": "17ab5bea-fa06-4733-bb66-ca20494bfaf5",
   "metadata": {},
   "outputs": [],
   "source": []
  },
  {
   "cell_type": "code",
   "execution_count": null,
   "id": "3f4d72a2-1022-4f40-b226-0a534ce9730a",
   "metadata": {},
   "outputs": [],
   "source": []
  }
 ],
 "metadata": {
  "kernelspec": {
   "display_name": "Python 3 (ipykernel)",
   "language": "python",
   "name": "python3"
  },
  "language_info": {
   "codemirror_mode": {
    "name": "ipython",
    "version": 3
   },
   "file_extension": ".py",
   "mimetype": "text/x-python",
   "name": "python",
   "nbconvert_exporter": "python",
   "pygments_lexer": "ipython3",
   "version": "3.9.7"
  }
 },
 "nbformat": 4,
 "nbformat_minor": 5
}
